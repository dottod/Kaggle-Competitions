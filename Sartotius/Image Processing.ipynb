{
 "cells": [
  {
   "cell_type": "markdown",
   "metadata": {},
   "source": [
    "# Data Pre Processing step"
   ]
  },
  {
   "cell_type": "code",
   "execution_count": 1,
   "metadata": {},
   "outputs": [],
   "source": [
    "from PIL import Image\n",
    "import cv2 as cv \n",
    "import os\n",
    "import numpy as np\n",
    "import pandas as pd\n",
    "import sys\n",
    "from sklearn.model_selection import train_test_split\n",
    "\n",
    "\n"
   ]
  },
  {
   "cell_type": "code",
   "execution_count": 2,
   "metadata": {},
   "outputs": [],
   "source": [
    "# root_folder = os.getcwd()\n",
    "sys.path.append(os.path.join(os.getcwd()))\n",
    "os.environ[\"SARTORIUS\"] = os.path.join(os.getcwd())\n",
    "sart = os.environ[\"SARTORIUS\"]\n",
    "processed_data_train = os.path.join(sart, 'processed_data','train')\n",
    "processed_data_test= os.path.join(sart, 'processed_data','test')"
   ]
  },
  {
   "cell_type": "code",
   "execution_count": 3,
   "metadata": {},
   "outputs": [],
   "source": [
    "def rle_decode(mask_rle, shape):\n",
    "    '''\n",
    "    mask_rle: run-length as string formated (start length)\n",
    "    shape: (height,width) of array to return \n",
    "    Returns numpy array, 1 - mask, 0 - background\n",
    "    '''\n",
    "    s = mask_rle.split()\n",
    "    starts, lengths = [np.asarray(x, dtype=int)\n",
    "                       for x in (s[0:][::2], s[1:][::2])]\n",
    "    starts -= 1\n",
    "    ends = starts + lengths\n",
    "    img = np.zeros(shape[0]*shape[1], dtype=np.uint8)\n",
    "    for lo, hi in zip(starts, ends):\n",
    "        img[lo:hi] = 1\n",
    "    return img.reshape(shape)\n"
   ]
  },
  {
   "cell_type": "code",
   "execution_count": 4,
   "metadata": {},
   "outputs": [],
   "source": [
    "def annotation_conversion(annotation, shape):\n",
    "    try:\n",
    "        img_focus = np.zeros(shape)\n",
    "        img_focus = rle_decode(annotation, shape)\n",
    "        ycoordinates = np.where(img_focus.sum(axis=1, keepdims=False))\n",
    "        xcoordinates = np.where(img_focus.sum(axis=0, keepdims=False))\n",
    "        tuple_dims = (ycoordinates[0][0], ycoordinates[0][-1], xcoordinates[0]\n",
    "                      [0],    xcoordinates[0][-1])\n",
    "        return tuple_dims\n",
    "    except:\n",
    "        return None\n"
   ]
  },
  {
   "cell_type": "markdown",
   "metadata": {},
   "source": [
    "# Creation of Test and Train Datasets for Easy training of CNN"
   ]
  },
  {
   "cell_type": "code",
   "execution_count": 6,
   "metadata": {},
   "outputs": [],
   "source": [
    "file_path = os.path.join(sart,'sartorius-cell-instance-segmentation', 'train.csv')\n",
    "df = pd.read_csv(file_path)\n",
    "shape = (520, 704)\n",
    "\n",
    "# print(X_train.shape, X_test.shape, y_train.shape, y_test.shape)\n"
   ]
  },
  {
   "cell_type": "code",
   "execution_count": 7,
   "metadata": {},
   "outputs": [],
   "source": [
    "df['tuple_dims']= df.annotation.apply(lambda x: annotation_conversion(x,shape))"
   ]
  },
  {
   "cell_type": "code",
   "execution_count": 8,
   "metadata": {},
   "outputs": [],
   "source": [
    "df['new_path'] = df.apply(lambda x: x[0] +'_'+ str(x.name)+'.png', axis=1)\n"
   ]
  },
  {
   "cell_type": "code",
   "execution_count": 22,
   "metadata": {},
   "outputs": [],
   "source": [
    "train,test = train_test_split(df, test_size=0.15)\n"
   ]
  },
  {
   "cell_type": "code",
   "execution_count": 24,
   "metadata": {},
   "outputs": [],
   "source": [
    "def create_subImage(input_file_path, output_file_path, output_file_name, crop_param, shape=None):\n",
    "    try:\n",
    "        im = cv.imread(input_file_path)\n",
    "        one_part = im[:, :, 0]\n",
    "        left, right, top, bottom = crop_param\n",
    "        if shape != None:\n",
    "            r_imaged = cv.resize(\n",
    "                one_part[left:right, top:bottom], shape, interpolation=cv.INTER_AREA)\n",
    "        else:\n",
    "            r_imaged = one_part[left:right, top:bottom]\n",
    "        if not os.path.exists(output_file_path):\n",
    "            os.mkdir(output_file_path)\n",
    "        cv.imwrite(os.path.join(output_file_path, output_file_name), r_imaged)\n",
    "        return crop_param\n",
    "    except Exception as E:\n",
    "        print('Unable to process Image.', str(E))\n"
   ]
  },
  {
   "cell_type": "code",
   "execution_count": 25,
   "metadata": {},
   "outputs": [
    {
     "data": {
      "text/plain": [
       "58921     (89, 100, 266, 279)\n",
       "73152    (246, 259, 304, 319)\n",
       "17226    (406, 422, 567, 590)\n",
       "1619      (87, 105, 181, 201)\n",
       "14514    (183, 217, 139, 155)\n",
       "                 ...         \n",
       "1004     (135, 152, 674, 692)\n",
       "61365      (391, 419, 19, 32)\n",
       "50289    (398, 409, 610, 623)\n",
       "57751    (472, 486, 263, 284)\n",
       "9313     (506, 519, 402, 421)\n",
       "Length: 62547, dtype: object"
      ]
     },
     "execution_count": 25,
     "metadata": {},
     "output_type": "execute_result"
    }
   ],
   "source": [
    "train.apply(lambda x: create_subImage(os.path.join(sart, 'sartorius-cell-instance-segmentation', 'train', str(x.id) + '.png'),\n",
    "                                      os.path.join(processed_data_train, str(x.cell_type)), str(x.new_path), x.tuple_dims), axis=1)\n"
   ]
  },
  {
   "cell_type": "code",
   "execution_count": 26,
   "metadata": {},
   "outputs": [
    {
     "data": {
      "text/plain": [
       "38996    (413, 432, 370, 384)\n",
       "3752     (342, 368, 553, 579)\n",
       "15954    (487, 506, 348, 372)\n",
       "61067      (10, 19, 354, 361)\n",
       "4468     (287, 302, 269, 304)\n",
       "                 ...         \n",
       "20387    (383, 410, 101, 182)\n",
       "16529    (102, 114, 340, 358)\n",
       "52552        (18, 35, 46, 58)\n",
       "2573     (316, 384, 672, 702)\n",
       "33997    (117, 130, 265, 287)\n",
       "Length: 11038, dtype: object"
      ]
     },
     "execution_count": 26,
     "metadata": {},
     "output_type": "execute_result"
    }
   ],
   "source": [
    "test.apply(lambda x: create_subImage(os.path.join(sart, 'sartorius-cell-instance-segmentation', 'train', str(x.id) + '.png'),\n",
    "                                      os.path.join(processed_data_test, str(x.cell_type)), str(x.new_path), x.tuple_dims), axis=1)\n"
   ]
  }
 ],
 "metadata": {
  "interpreter": {
   "hash": "667f09ab1bec2f9764decd719aa5a2b4a6dd8c1efa8589e48368dec22fe5ae68"
  },
  "kernelspec": {
   "display_name": "Python 3.8.8 64-bit ('base': conda)",
   "language": "python",
   "name": "python3"
  },
  "language_info": {
   "codemirror_mode": {
    "name": "ipython",
    "version": 3
   },
   "file_extension": ".py",
   "mimetype": "text/x-python",
   "name": "python",
   "nbconvert_exporter": "python",
   "pygments_lexer": "ipython3",
   "version": "3.8.8"
  },
  "orig_nbformat": 4
 },
 "nbformat": 4,
 "nbformat_minor": 2
}
