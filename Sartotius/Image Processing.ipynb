{
 "cells": [
  {
   "cell_type": "code",
   "execution_count": 2,
   "metadata": {},
   "outputs": [],
   "source": [
    "from PIL import Image\n",
    "import cv2 as cv \n",
    "import os\n",
    "import numpy as np\n",
    "import pandas as pd\n",
    "import sys"
   ]
  },
  {
   "cell_type": "code",
   "execution_count": 3,
   "metadata": {},
   "outputs": [],
   "source": [
    "# root_folder = os.getcwd()\n",
    "sys.path.append(os.path.join(os.getcwd()))\n",
    "os.environ[\"SARTORIUS\"] = os.path.join(os.getcwd())\n",
    "sart = os.environ[\"SARTORIUS\"]\n"
   ]
  },
  {
   "cell_type": "code",
   "execution_count": 4,
   "metadata": {},
   "outputs": [],
   "source": [
    "def rle_decode(mask_rle, shape):\n",
    "    '''\n",
    "    mask_rle: run-length as string formated (start length)\n",
    "    shape: (height,width) of array to return \n",
    "    Returns numpy array, 1 - mask, 0 - background\n",
    "    '''\n",
    "    s = mask_rle.split()\n",
    "    starts, lengths = [np.asarray(x, dtype=int)\n",
    "                       for x in (s[0:][::2], s[1:][::2])]\n",
    "    starts -= 1\n",
    "    ends = starts + lengths\n",
    "    img = np.zeros(shape[0]*shape[1], dtype=np.uint8)\n",
    "    for lo, hi in zip(starts, ends):\n",
    "        img[lo:hi] = 1\n",
    "    return img.reshape(shape)\n"
   ]
  },
  {
   "cell_type": "code",
   "execution_count": 5,
   "metadata": {},
   "outputs": [],
   "source": [
    "def annotation_conversion(annotation, shape):\n",
    "    try:\n",
    "        img_focus = np.zeros(shape)\n",
    "        img_focus = rle_decode(annotation, shape)\n",
    "        ycoordinates = np.where(img_focus.sum(axis=1, keepdims=False))\n",
    "        xcoordinates = np.where(img_focus.sum(axis=0, keepdims=False))\n",
    "        tuple_dims = (ycoordinates[0][0], ycoordinates[0][-1], xcoordinates[0]\n",
    "                      [0],    xcoordinates[0][-1])\n",
    "        return tuple_dims\n",
    "    except:\n",
    "        return None\n"
   ]
  },
  {
   "cell_type": "code",
   "execution_count": 6,
   "metadata": {},
   "outputs": [],
   "source": [
    "file_path = os.path.join(sart,'sartorius-cell-instance-segmentation', 'train.csv')\n",
    "df = pd.read_csv(file_path)\n",
    "shape = (520, 704)"
   ]
  },
  {
   "cell_type": "code",
   "execution_count": 7,
   "metadata": {},
   "outputs": [
    {
     "data": {
      "text/plain": [
       "0    (167, 196, 576, 602)\n",
       "1    (268, 294, 359, 373)\n",
       "2    (246, 275, 379, 400)\n",
       "3    (279, 314, 296, 326)\n",
       "4    (238, 260, 255, 281)\n",
       "Name: annotation, dtype: object"
      ]
     },
     "execution_count": 7,
     "metadata": {},
     "output_type": "execute_result"
    }
   ],
   "source": [
    "df.head().annotation.apply(lambda x: annotation_conversion(x, shape))"
   ]
  },
  {
   "cell_type": "code",
   "execution_count": 8,
   "metadata": {},
   "outputs": [],
   "source": [
    "df['tuple_dims']= df.annotation.apply(lambda x: annotation_conversion(x,shape))"
   ]
  },
  {
   "cell_type": "code",
   "execution_count": 9,
   "metadata": {},
   "outputs": [],
   "source": [
    "df['new_path'] = df.apply(lambda x: x[0] +'_'+ str(x.name)+'.png', axis=1)\n"
   ]
  },
  {
   "cell_type": "code",
   "execution_count": 10,
   "metadata": {},
   "outputs": [],
   "source": [
    "def create_subImage(input_file_path, output_file_path,crop_param,shape = (100,100)):\n",
    "    try:\n",
    "        im = cv.imread(input_file_path)\n",
    "        one_part = im[:, :, 0]\n",
    "        left, right, top, bottom = crop_param\n",
    "        r_imaged = cv.resize(one_part[left:right, top:bottom], shape, interpolation=cv.INTER_AREA)\n",
    "        cv.imwrite(output_file_path, r_imaged)\n",
    "\n",
    "        return crop_param\n",
    "    except Exception as E:\n",
    "        print('Unable to process Image.',str(E))\n"
   ]
  },
  {
   "cell_type": "code",
   "execution_count": null,
   "metadata": {},
   "outputs": [],
   "source": [
    "df.apply(lambda x: create_subImage(os.path.join(sart,'sartorius-cell-instance-segmentation', 'train', str(x.id)+ '.png'), os.path.join(sart, 'processed_data','train', str(x.new_path)),x.tuple_dims,(100,100)), axis=1)\n"
   ]
  },
  {
   "cell_type": "markdown",
   "metadata": {},
   "source": [
    "# Validating the crop Region:"
   ]
  },
  {
   "cell_type": "code",
   "execution_count": null,
   "metadata": {},
   "outputs": [],
   "source": [
    "index=0\n",
    "annotation = df.annotation[index]\n"
   ]
  },
  {
   "cell_type": "code",
   "execution_count": null,
   "metadata": {},
   "outputs": [],
   "source": [
    "img2 = rle_decode(annotation, shape)\n",
    "left, top, right,bottom = annotation_conversion(annotation, shape)\n"
   ]
  },
  {
   "cell_type": "code",
   "execution_count": null,
   "metadata": {},
   "outputs": [],
   "source": [
    "# reading_image\n",
    "im= cv.imread(os.path.join(sart,'train',df.id[index]+'.png'))\n",
    "one_part = im[:,:,0]"
   ]
  },
  {
   "cell_type": "code",
   "execution_count": null,
   "metadata": {},
   "outputs": [],
   "source": [
    "r_imaged = cv.resize(one_part[left:right, top:bottom], (100,100), interpolation=cv.INTER_AREA)\n"
   ]
  },
  {
   "cell_type": "code",
   "execution_count": null,
   "metadata": {},
   "outputs": [],
   "source": [
    "cv.imwrite(\"test123.png\", r_imaged)\n",
    "cv.imwrite(\"test123_2.png\", cv.addWeighted(one_part, 0.7, img2*255, 0.1, 0))\n",
    "one_part[left:right, top:bottom]=255\n",
    "cv.imwrite(\"test123_3.png\", one_part)\n"
   ]
  },
  {
   "cell_type": "markdown",
   "metadata": {},
   "source": [
    "# Subsetting the dataset for Training"
   ]
  },
  {
   "cell_type": "code",
   "execution_count": 11,
   "metadata": {},
   "outputs": [],
   "source": [
    "def data_pre_processing_image(image_path):\n",
    "    \n",
    "    input_feature = cv.imread(image_path)\n",
    "    return input_feature.reshape(-1)\n",
    "\n",
    "\n",
    "def data_pre_processing_result(cell_type):\n",
    "    def label_assignment(cell_type):\n",
    "        if cell_type == 'shsy5y':\n",
    "            return np.array([0, 0, 1])\n",
    "        elif cell_type == 'astro':\n",
    "            return np.array([1, 0, 0])\n",
    "        else:\n",
    "            return np.array([0, 1, 0])\n",
    "\n",
    "    y_output = label_assignment(cell_type)\n",
    "    return y_output\n"
   ]
  },
  {
   "cell_type": "code",
   "execution_count": 12,
   "metadata": {},
   "outputs": [],
   "source": [
    "df['x']= df.apply(lambda x: data_pre_processing_image(os.path.join(sart, 'processed_data','train', x.new_path)),axis=1 )"
   ]
  },
  {
   "cell_type": "code",
   "execution_count": 13,
   "metadata": {},
   "outputs": [],
   "source": [
    "df['y']= df.apply(lambda x: data_pre_processing_result(x.cell_type),axis=1 )"
   ]
  },
  {
   "cell_type": "code",
   "execution_count": 14,
   "metadata": {},
   "outputs": [],
   "source": [
    "X_train = np.stack(df.x,axis=0)"
   ]
  },
  {
   "cell_type": "code",
   "execution_count": 15,
   "metadata": {},
   "outputs": [],
   "source": [
    "Y_train = np.stack(df.y, axis=0)\n",
    "np.savetxt('Y_train.csv', Y_train, delimiter=',')\n"
   ]
  },
  {
   "cell_type": "code",
   "execution_count": 16,
   "metadata": {},
   "outputs": [],
   "source": [
    "np.savetxt('X_train.csv', X_train, delimiter=',')"
   ]
  }
 ],
 "metadata": {
  "interpreter": {
   "hash": "667f09ab1bec2f9764decd719aa5a2b4a6dd8c1efa8589e48368dec22fe5ae68"
  },
  "kernelspec": {
   "display_name": "Python 3.8.8 64-bit ('base': conda)",
   "language": "python",
   "name": "python3"
  },
  "language_info": {
   "codemirror_mode": {
    "name": "ipython",
    "version": 3
   },
   "file_extension": ".py",
   "mimetype": "text/x-python",
   "name": "python",
   "nbconvert_exporter": "python",
   "pygments_lexer": "ipython3",
   "version": "3.8.8"
  },
  "orig_nbformat": 4
 },
 "nbformat": 4,
 "nbformat_minor": 2
}
