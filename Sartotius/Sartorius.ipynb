{
 "cells": [
  {
   "cell_type": "code",
   "execution_count": null,
   "metadata": {},
   "outputs": [],
   "source": [
    "class myCallback(tf.keras.callbacks.Callback):\n",
    "    def on_epoch_end(self,epoch,logs={}):\n",
    "        if logs.get('accuracy') is not None and logs.get('accuracy') > .98:\n",
    "            print('Accuracy very hight, stopping the algorithm.')\n",
    "            self.model.stop_training=True\n"
   ]
  },
  {
   "cell_type": "code",
   "execution_count": null,
   "metadata": {},
   "outputs": [],
   "source": [
    "callbacks = myCallback()"
   ]
  },
  {
   "cell_type": "code",
   "execution_count": 1,
   "metadata": {},
   "outputs": [],
   "source": [
    "from tensorflow.keras.preprocessing.image import ImageDataGenerator\n",
    "import tensorflow as tf"
   ]
  },
  {
   "cell_type": "code",
   "execution_count": 2,
   "metadata": {},
   "outputs": [],
   "source": [
    "train_datagen = ImageDataGenerator(rescale =1/255.0)"
   ]
  },
  {
   "cell_type": "code",
   "execution_count": 3,
   "metadata": {},
   "outputs": [],
   "source": [
    "import os\n",
    "parent_dir = os.path.dirname(os.getcwd())\n",
    "train_dir = os.path.join(parent_dir, 'Sartorius', 'processed_data', 'train')\n",
    "test_dir = os.path.join(parent_dir, 'Sartorius', 'processed_data', 'test')\n"
   ]
  },
  {
   "cell_type": "code",
   "execution_count": 4,
   "metadata": {},
   "outputs": [
    {
     "name": "stdout",
     "output_type": "stream",
     "text": [
      "Found 62547 images belonging to 3 classes.\n"
     ]
    }
   ],
   "source": [
    "train_generator = train_datagen.flow_from_directory(train_dir,target_size=(100,100),batch_size=128,class_mode='categorical')"
   ]
  },
  {
   "cell_type": "code",
   "execution_count": 5,
   "metadata": {},
   "outputs": [
    {
     "name": "stdout",
     "output_type": "stream",
     "text": [
      "Found 11038 images belonging to 3 classes.\n"
     ]
    }
   ],
   "source": [
    "test_generator = train_datagen.flow_from_directory(test_dir,target_size=(100,100),batch_size=128,class_mode='categorical')"
   ]
  },
  {
   "cell_type": "code",
   "execution_count": 6,
   "metadata": {},
   "outputs": [],
   "source": [
    "model = tf.keras.models.Sequential([\n",
    "        tf.keras.layers.Conv2D(64,(3,3),activation='relu',input_shape=(100,100,3)),\n",
    "        tf.keras.layers.Conv2D(32,(3,3),activation='relu'),\n",
    "        tf.keras.layers.MaxPooling2D(32,(2,2)),\n",
    "        tf.keras.layers.Flatten(),\n",
    "        tf.keras.layers.Dense(64, activation='relu'),\n",
    "        tf.keras.layers.Dense(32, activation='relu'),\n",
    "        tf.keras.layers.Dense(3,activation='softmax')\n",
    "    ]\n",
    ")\n"
   ]
  },
  {
   "cell_type": "code",
   "execution_count": 7,
   "metadata": {},
   "outputs": [
    {
     "name": "stdout",
     "output_type": "stream",
     "text": [
      "Model: \"sequential\"\n",
      "_________________________________________________________________\n",
      " Layer (type)                Output Shape              Param #   \n",
      "=================================================================\n",
      " conv2d (Conv2D)             (None, 98, 98, 64)        1792      \n",
      "                                                                 \n",
      " conv2d_1 (Conv2D)           (None, 96, 96, 32)        18464     \n",
      "                                                                 \n",
      " max_pooling2d (MaxPooling2D  (None, 33, 33, 32)       0         \n",
      " )                                                               \n",
      "                                                                 \n",
      " flatten (Flatten)           (None, 34848)             0         \n",
      "                                                                 \n",
      " dense (Dense)               (None, 64)                2230336   \n",
      "                                                                 \n",
      " dense_1 (Dense)             (None, 32)                2080      \n",
      "                                                                 \n",
      " dense_2 (Dense)             (None, 3)                 99        \n",
      "                                                                 \n",
      "=================================================================\n",
      "Total params: 2,252,771\n",
      "Trainable params: 2,252,771\n",
      "Non-trainable params: 0\n",
      "_________________________________________________________________\n"
     ]
    }
   ],
   "source": [
    "model.summary()"
   ]
  },
  {
   "cell_type": "code",
   "execution_count": 9,
   "metadata": {},
   "outputs": [],
   "source": [
    "model.compile(optimizer=tf.keras.optimizers.Adam(), loss='categorical_crossentropy', metrics = ['acc'])\n"
   ]
  },
  {
   "cell_type": "code",
   "execution_count": 10,
   "metadata": {},
   "outputs": [
    {
     "name": "stdout",
     "output_type": "stream",
     "text": [
      "Epoch 1/15\n",
      "8/8 [==============================] - 188s 23s/step - loss: 0.8094 - acc: 0.6533 - val_loss: 0.6836 - val_acc: 0.7295\n",
      "Epoch 2/15\n",
      "8/8 [==============================] - 188s 23s/step - loss: 0.6837 - acc: 0.7529 - val_loss: 0.6818 - val_acc: 0.7490\n",
      "Epoch 3/15\n",
      "8/8 [==============================] - 190s 24s/step - loss: 0.6753 - acc: 0.7363 - val_loss: 0.6899 - val_acc: 0.7529\n",
      "Epoch 4/15\n",
      "8/8 [==============================] - 184s 23s/step - loss: 0.6533 - acc: 0.7520 - val_loss: 0.6164 - val_acc: 0.7480\n",
      "Epoch 5/15\n",
      "8/8 [==============================] - 177s 22s/step - loss: 0.6444 - acc: 0.7518 - val_loss: 0.5787 - val_acc: 0.7783\n",
      "Epoch 6/15\n",
      "8/8 [==============================] - 206s 26s/step - loss: 0.6470 - acc: 0.7705 - val_loss: 0.6952 - val_acc: 0.7305\n",
      "Epoch 7/15\n",
      "8/8 [==============================] - 201s 25s/step - loss: 0.6482 - acc: 0.7461 - val_loss: 0.5602 - val_acc: 0.7744\n",
      "Epoch 8/15\n",
      "8/8 [==============================] - 138s 17s/step - loss: 0.5810 - acc: 0.7744 - val_loss: 0.4930 - val_acc: 0.8252\n",
      "Epoch 9/15\n",
      "8/8 [==============================] - 103s 13s/step - loss: 0.5992 - acc: 0.7773 - val_loss: 0.7314 - val_acc: 0.7002\n",
      "Epoch 10/15\n",
      "8/8 [==============================] - 103s 13s/step - loss: 0.5666 - acc: 0.7998 - val_loss: 0.6705 - val_acc: 0.7598\n",
      "Epoch 11/15\n",
      "8/8 [==============================] - 101s 13s/step - loss: 0.5799 - acc: 0.7871 - val_loss: 0.6254 - val_acc: 0.7646\n",
      "Epoch 12/15\n",
      "8/8 [==============================] - 102s 13s/step - loss: 0.5842 - acc: 0.7900 - val_loss: 0.5690 - val_acc: 0.7842\n",
      "Epoch 13/15\n",
      "8/8 [==============================] - 102s 13s/step - loss: 0.5491 - acc: 0.7852 - val_loss: 0.5270 - val_acc: 0.7988\n",
      "Epoch 14/15\n",
      "8/8 [==============================] - 101s 13s/step - loss: 0.4884 - acc: 0.8184 - val_loss: 0.5277 - val_acc: 0.8018\n",
      "Epoch 15/15\n",
      "8/8 [==============================] - 97s 12s/step - loss: 0.5448 - acc: 0.7926 - val_loss: 0.5405 - val_acc: 0.7881\n"
     ]
    }
   ],
   "source": [
    "history = model.fit(\n",
    "    train_generator,\n",
    "    steps_per_epoch=8,\n",
    "    epochs=15,\n",
    "    verbose =1,\n",
    "    validation_data = test_generator,\n",
    "    validation_steps =8\n",
    "\n",
    ")"
   ]
  },
  {
   "cell_type": "code",
   "execution_count": 11,
   "metadata": {},
   "outputs": [
    {
     "name": "stdout",
     "output_type": "stream",
     "text": [
      "INFO:tensorflow:Assets written to: finalmodel\\assets\n"
     ]
    }
   ],
   "source": [
    "model.save('finalmodel')\n"
   ]
  },
  {
   "cell_type": "code",
   "execution_count": null,
   "metadata": {},
   "outputs": [],
   "source": []
  }
 ],
 "metadata": {
  "interpreter": {
   "hash": "667f09ab1bec2f9764decd719aa5a2b4a6dd8c1efa8589e48368dec22fe5ae68"
  },
  "kernelspec": {
   "display_name": "Python 3.8.8 64-bit ('base': conda)",
   "language": "python",
   "name": "python3"
  },
  "language_info": {
   "codemirror_mode": {
    "name": "ipython",
    "version": 3
   },
   "file_extension": ".py",
   "mimetype": "text/x-python",
   "name": "python",
   "nbconvert_exporter": "python",
   "pygments_lexer": "ipython3",
   "version": "3.8.8"
  },
  "orig_nbformat": 4
 },
 "nbformat": 4,
 "nbformat_minor": 2
}
